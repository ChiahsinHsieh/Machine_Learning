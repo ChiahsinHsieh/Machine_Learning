{
 "cells": [
  {
   "cell_type": "markdown",
   "id": "accepted-evidence",
   "metadata": {},
   "source": [
    "<hr style=\"height:.7px;border:none;color:#333;background-color:#333;\" />\n",
    "<hr style=\"height:.7px;border:none;color:#333;background-color:#333;\" />\n",
    "\n",
    "<b>Apprentice Chef | Analysis Report to Management</b>\n",
    "<br>\n",
    "<b>Machine Learning | DAT-5303<b>\n",
    "<br>\n",
    "Chiahsin Hsieh\n",
    "<br>\n",
    "Hult International Business School<br>\n",
    "    \n",
    "<hr style=\"height:.7px;border:none;color:#333;background-color:#333;\" />\n",
    "<hr style=\"height:.7px;border:none;color:#333;background-color:#333;\" />\n"
   ]
  },
  {
   "cell_type": "code",
   "execution_count": 1,
   "id": "sexual-crisis",
   "metadata": {
    "code_folding": [
     0
    ]
   },
   "outputs": [],
   "source": [
    "# Importing libraries\n",
    "import pandas as pd                                   # data science essentials\n",
    "import matplotlib.pyplot as plt                       # essential graphical output\n",
    "import seaborn as sns                                 # enhanced graphical output                              \n",
    "import numpy as np                                    # mathematical essentials                    \n",
    "import statsmodels.formula.api as smf                 # regression modeling\n",
    "import sklearn.linear_model                           # linear models\n",
    "import random as rand     \n",
    "\n",
    "# Importing tools from scikitlearn\n",
    "from sklearn.metrics import confusion_matrix         # confusion matrix\n",
    "from sklearn.metrics import roc_auc_score            # auc score\n",
    "from sklearn.neighbors import KNeighborsClassifier   # KNN for classification\n",
    "from sklearn.neighbors import KNeighborsRegressor    # KNN for regression\n",
    "from sklearn.preprocessing import StandardScaler     # standard scaler\n",
    "from sklearn.model_selection import train_test_split # train-test split\n",
    "from sklearn.linear_model import LogisticRegression  # logistic regression\n",
    "\n",
    "# CART Model Packages\n",
    "import pydotplus                                     # interprets dot objects\n",
    "from sklearn.tree import DecisionTreeClassifier      # classification trees\n",
    "from sklearn.tree import export_graphviz             # exports graphics\n",
    "from six import StringIO                             # saves objects in memory\n",
    "from IPython.display import Image                    # displays on frontend\n",
    "\n",
    "\n",
    "# New Packages\n",
    "from sklearn.model_selection import RandomizedSearchCV     # hyperparameter tuning\n",
    "from sklearn.metrics import make_scorer                    # customizable scorer\n",
    "from sklearn.ensemble import RandomForestClassifier        # random forest\n",
    "from sklearn.ensemble import GradientBoostingClassifier    # gbm\n",
    "\n",
    "# setting pandas print options\n",
    "pd.set_option('display.max_rows', 500)\n",
    "pd.set_option('display.max_columns', 500)\n",
    "pd.set_option('display.width', 1000)\n",
    "pd.set_option('display.max_colwidth', 100)\n",
    "\n",
    "# specifying file name\n",
    "file = 'Apprentice_Chef_Dataset.xlsx'\n",
    "\n",
    "# reading the file into Python\n",
    "Apprentice_Chef = pd.read_excel(io = file)"
   ]
  },
  {
   "cell_type": "code",
   "execution_count": 2,
   "id": "polyphonic-clinton",
   "metadata": {
    "code_folding": [
     0
    ]
   },
   "outputs": [],
   "source": [
    "# Changing the features name to the lowercase\n",
    "Apprentice_Chef.columns = Apprentice_Chef.columns.str.lower()\n"
   ]
  },
  {
   "cell_type": "code",
   "execution_count": 3,
   "id": "cultural-jordan",
   "metadata": {},
   "outputs": [],
   "source": [
    "Apprentice_Chef['log_revenue'] = np.log10(Apprentice_Chef['revenue']+ 0.01)"
   ]
  },
  {
   "cell_type": "code",
   "execution_count": 4,
   "id": "cellular-patrol",
   "metadata": {
    "code_folding": [
     0
    ]
   },
   "outputs": [],
   "source": [
    "# Printing out all the features then identify the data type\n",
    "#print(Apprentice_Chef.columns)"
   ]
  },
  {
   "cell_type": "code",
   "execution_count": 5,
   "id": "oriented-procedure",
   "metadata": {
    "code_folding": [
     0
    ]
   },
   "outputs": [],
   "source": [
    "# Missing Value Analysis and Imputation\n",
    "\n",
    "# creating a dropped dataset to visualize 'fanily_name'\n",
    "df_dropped = Apprentice_Chef.dropna()\n",
    "\n",
    "#check if there is any missing values in the dropped dataset\n",
    "#df_dropped.isnull().sum()"
   ]
  },
  {
   "cell_type": "code",
   "execution_count": 6,
   "id": "explicit-system",
   "metadata": {
    "code_folding": [
     0
    ]
   },
   "outputs": [],
   "source": [
    "# creating an imputation value\n",
    "fill = 'NA'\n",
    "\n",
    "# imputing 'FAMILY_NAME'\n",
    "Apprentice_Chef['family_name'] = Apprentice_Chef['family_name'].fillna(fill)"
   ]
  },
  {
   "cell_type": "code",
   "execution_count": 7,
   "id": "extreme-authority",
   "metadata": {
    "code_folding": [
     0
    ]
   },
   "outputs": [],
   "source": [
    "# log transforming \"continuous variables\" and saving it to the dataset\n",
    "Apprentice_Chef['log_total_meals_ordered']     = np.log10(Apprentice_Chef['total_meals_ordered']+ 0.01)\n",
    "Apprentice_Chef['log_avg_time_per_site_visit'] = np.log10(Apprentice_Chef['avg_time_per_site_visit']+ 0.01)\n",
    "Apprentice_Chef['log_avg_prep_vid_time']       = np.log10(Apprentice_Chef['avg_prep_vid_time']+ 0.01)\n",
    "Apprentice_Chef['log_total_photos_viewed']     = np.log10(Apprentice_Chef['total_photos_viewed']+ 0.01)\n"
   ]
  },
  {
   "cell_type": "code",
   "execution_count": 8,
   "id": "golden-excellence",
   "metadata": {
    "code_folding": [
     0
    ]
   },
   "outputs": [],
   "source": [
    "# Doing a log transformation for the 3 variables mentioned\n",
    "Apprentice_Chef['log_avg_time_per_site_visit'] = np.log10(Apprentice_Chef['avg_time_per_site_visit'])\n",
    "Apprentice_Chef['log_avg_prep_vid_time'] = np.log10(Apprentice_Chef['avg_prep_vid_time'])\n",
    "Apprentice_Chef['log_total_meals_ordered'] = np.log10(Apprentice_Chef['total_meals_ordered'])"
   ]
  },
  {
   "cell_type": "code",
   "execution_count": 9,
   "id": "immune-adapter",
   "metadata": {
    "code_folding": [
     0
    ]
   },
   "outputs": [],
   "source": [
    "# log transforming \"INTERVAL/COUNT \" and saving it to the dataset\n",
    "Apprentice_Chef['log_unique_meals_purch']          =  np.log10(Apprentice_Chef['unique_meals_purch']+ 0.01)\n",
    "Apprentice_Chef['log_contacts_w_customer_service'] =  np.log10(Apprentice_Chef['contacts_w_customer_service']+ 0.01)\n",
    "Apprentice_Chef['log_product_categories_viewed']   =  np.log10(Apprentice_Chef['product_categories_viewed']+ 0.01)\n",
    "Apprentice_Chef['log_cancellations_before_noon']   =  np.log10(Apprentice_Chef['cancellations_before_noon']+ 0.01)\n",
    "Apprentice_Chef['log_cancellations_after_noon']    =  np.log10(Apprentice_Chef['cancellations_after_noon']+ 0.01)\n",
    "Apprentice_Chef['log_pc_logins']                   =  np.log10(Apprentice_Chef['pc_logins']+ 0.01)\n",
    "Apprentice_Chef['log_mobile_logins']               =  np.log10(Apprentice_Chef['mobile_logins']+ 0.01)\n",
    "Apprentice_Chef['log_weekly_plan']                 =  np.log10(Apprentice_Chef['weekly_plan']+ 0.01)\n",
    "Apprentice_Chef['log_early_deliveries']            =  np.log10(Apprentice_Chef['early_deliveries']+ 0.01)\n",
    "Apprentice_Chef['log_late_deliveries']             =  np.log10(Apprentice_Chef['late_deliveries']+ 0.01)\n",
    "Apprentice_Chef['log_largest_order_size']          =  np.log10(Apprentice_Chef['largest_order_size']+ 0.01)\n",
    "Apprentice_Chef['log_master_classes_attended']     =  np.log10(Apprentice_Chef['master_classes_attended']+ 0.01)\n",
    "Apprentice_Chef['log_median_meal_rating']          =  np.log10(Apprentice_Chef['median_meal_rating']+ 0.01)\n",
    "Apprentice_Chef['log_avg_clicks_per_visit']        =  np.log10(Apprentice_Chef['avg_clicks_per_visit']+ 0.01)"
   ]
  },
  {
   "cell_type": "code",
   "execution_count": 10,
   "id": "premium-indication",
   "metadata": {
    "code_folding": [
     0
    ]
   },
   "outputs": [],
   "source": [
    "# Counting the number of zeroes \n",
    "cancellations_before_noon_zeroes = len(Apprentice_Chef['cancellations_before_noon'][Apprentice_Chef['cancellations_before_noon'] == 0])\n",
    "cancellations_after_noon_zeroes  = len(Apprentice_Chef['cancellations_after_noon'][Apprentice_Chef['cancellations_after_noon'] == 0])\n",
    "weekly_plan_zeroes               = len(Apprentice_Chef['weekly_plan'][Apprentice_Chef['weekly_plan'] == 0])\n",
    "moblie_logins_zeroes             = len(Apprentice_Chef['mobile_logins'][Apprentice_Chef['mobile_logins'] == 0])\n",
    "master_classes_attended_zeroes   = len(Apprentice_Chef['master_classes_attended'][Apprentice_Chef['master_classes_attended'] == 0])\n",
    "early_deliveries_zeroes          = len(Apprentice_Chef['early_deliveries'][Apprentice_Chef['early_deliveries'] == 0])\n",
    "late_deliveries_zeroes           = len(Apprentice_Chef['late_deliveries'][Apprentice_Chef['late_deliveries'] == 0])\n",
    "\n",
    "\n",
    "# Printing a table of the results\n",
    "#print(f\"\"\"\n",
    "#                             No\\t\\t\\tYes\n",
    "#                             -----------------------\n",
    "#cancellations before noon  | {cancellations_before_noon_zeroes}\\t\\t{len(Apprentice_Chef) - cancellations_before_noon_zeroes }\n",
    "#cancellations after noon   | {cancellations_after_noon_zeroes}\\t\\t{len(Apprentice_Chef) - cancellations_after_noon_zeroes}\n",
    "#weekly plan                | {weekly_plan_zeroes}\\t\\t{len(Apprentice_Chef) - weekly_plan_zeroes }\n",
    "#moblie logins              | {moblie_logins_zeroes}\\t\\t\\t{len(Apprentice_Chef) - moblie_logins_zeroes}\n",
    "#master classes attended    | {master_classes_attended_zeroes}\\t\\t{len(Apprentice_Chef) - master_classes_attended_zeroes }\n",
    "#early deliveries           | {early_deliveries_zeroes}\\t\\t{len(Apprentice_Chef) - early_deliveries_zeroes }\n",
    "#late deliveries            | {late_deliveries_zeroes}\\t\\t{len(Apprentice_Chef) - late_deliveries_zeroes }\n",
    "\n",
    "#\"\"\")"
   ]
  },
  {
   "cell_type": "code",
   "execution_count": 11,
   "id": "israeli-accountability",
   "metadata": {
    "code_folding": [
     0
    ]
   },
   "outputs": [],
   "source": [
    "# Dummy variable for the 6 features\n",
    "Apprentice_Chef['has_cancellations_before_noon']   = 0\n",
    "Apprentice_Chef['has_cancellations_after_noon']    = 0\n",
    "Apprentice_Chef['has_weekly_plan']                 = 0\n",
    "Apprentice_Chef['has_master_classes_attended']     = 0\n",
    "Apprentice_Chef['has_early_deliveries']            = 0\n",
    "Apprentice_Chef['has_late_deliveries']             = 0\n",
    "\n",
    "for index, value in Apprentice_Chef.iterrows():\n",
    "    \n",
    "    # cancellations_before_noon\n",
    "    if Apprentice_Chef.loc[index,'cancellations_before_noon'] > 0:\n",
    "        Apprentice_Chef.loc[index, 'has_cancellations_before_noon'] = 1\n",
    "\n",
    "    # cancellations_after_noon\n",
    "    if Apprentice_Chef.loc[index, 'cancellations_after_noon'] > 0:\n",
    "        Apprentice_Chef.loc[index, 'has_cancellations_after_noon'] = 1\n",
    "        \n",
    "    # weekly_plan\n",
    "    if Apprentice_Chef.loc[index,'weekly_plan'] > 0:\n",
    "        Apprentice_Chef.loc[index, 'has_weekly_plan'] = 1\n",
    "\n",
    "    # master_classes_attended\n",
    "    if Apprentice_Chef.loc[index, 'master_classes_attended'] > 0:\n",
    "        Apprentice_Chef.loc[index, 'has_master_classes_attended'] = 1\n",
    "        \n",
    "    # early_deliveries\n",
    "    if Apprentice_Chef.loc[index, 'early_deliveries'] > 0:\n",
    "        Apprentice_Chef.loc[index, 'has_early_deliveries'] = 1\n",
    "    \n",
    "    # late_deliveries\n",
    "    if Apprentice_Chef.loc[index, 'late_deliveries'] > 0:\n",
    "        Apprentice_Chef.loc[index, 'has_late_deliveries'] = 1\n",
    "\n",
    "\n",
    "# Checking Results\n",
    "#Apprentice_Chef[['has_cancellations_before_noon', 'has_cancellations_after_noon',\n",
    "#         'has_weekly_plan', 'has_master_classes_attended', \n",
    "#         'has_early_deliveries','has_late_deliveries']].head(10)"
   ]
  },
  {
   "cell_type": "code",
   "execution_count": 12,
   "id": "organized-exploration",
   "metadata": {
    "code_folding": [
     0
    ]
   },
   "outputs": [],
   "source": [
    "# Splitting personal emails\n",
    "\n",
    "# Placeholder list\n",
    "placeholder_lst = []\n",
    "\n",
    "# Looping over each email address\n",
    "for index, col in Apprentice_Chef.iterrows():\n",
    "    \n",
    "    # Splitting email domain at '@'\n",
    "    split_email = Apprentice_Chef.loc[index, 'email'].split(sep = '@')\n",
    "    \n",
    "    # Appending placeholder_lst with the results\n",
    "    placeholder_lst.append(split_email)\n",
    "    \n",
    "\n",
    "# Converting placeholder_lst into a DataFrame \n",
    "email_df = pd.DataFrame(placeholder_lst)\n",
    "\n",
    "\n",
    "# displaying the results\n",
    "#email_df"
   ]
  },
  {
   "cell_type": "code",
   "execution_count": 13,
   "id": "lined-typing",
   "metadata": {
    "code_folding": [
     0
    ]
   },
   "outputs": [],
   "source": [
    "# Concatenating with original DataFrame\n",
    "\n",
    "# renaming column to concatenate\n",
    "email_df.columns = ['0' , 'personal_email_domain']\n",
    "\n",
    "\n",
    "# concatenating personal_email_domain with apprentice_chef DataFrame\n",
    "Apprentice_Chef = pd.concat([Apprentice_Chef, email_df['personal_email_domain']],\n",
    "                     axis = 1)\n",
    "# Printing value counts of personal_email_domain\n",
    "#Apprentice_Chef.loc[: ,'personal_email_domain'].value_counts()"
   ]
  },
  {
   "cell_type": "code",
   "execution_count": 14,
   "id": "listed-employee",
   "metadata": {
    "code_folding": [
     0
    ]
   },
   "outputs": [],
   "source": [
    "# Email domain types\n",
    "\n",
    "pro_domain = ['@mmm.com', '@amex.com', '@boeing.com', \n",
    "              '@caterpillar.com', '@chevron.com', '@cisco.com', \n",
    "              '@cocacola.com', '@disney.com', '@dupont.com', \n",
    "              '@exxon.com', '@ge.org', '@goldmansacs.com', \n",
    "              '@homedepot.com', '@intel.com', '@jnj.com', \n",
    "              '@jpmorgan.com', '@mcdonalds.com', '@merck.com', \n",
    "              '@microsoft.com', '@nike.com', '@pfizer.com', \n",
    "              '@pg.com', '@travelers.com', '@unitedtech.com', \n",
    "              '@unitedhealth.com', '@verizon.com', \n",
    "              '@visa.com', '@walmart.com']\n",
    "\n",
    "per_domain = ['@gmail.com', '@yahoo.com', '@msn.com','@protonmail.com',\n",
    "              '@hotmail.com', '@apple.com', '@intel.com', '@ibm.com']\n",
    "\n",
    "\n",
    "junk_domain = ['@me.com', '@aol.com', \n",
    "               '@live.com','@passport.com']\n",
    "\n",
    "\n",
    "# placeholder list\n",
    "placeholder_lst = []\n",
    "\n",
    "\n",
    "# looping to group observations by domain type\n",
    "for domain in Apprentice_Chef['personal_email_domain']:\n",
    "        if '@' + domain in per_domain :\n",
    "            placeholder_lst.append('personal')\n",
    "        \n",
    "        elif '@' + domain in pro_domain :\n",
    "            placeholder_lst.append('promotional')\n",
    "            \n",
    "        else:\n",
    "            placeholder_lst.append('junk')\n",
    "\n",
    "\n",
    "# concatenating with original DataFrame\n",
    "Apprentice_Chef['domain_group'] = pd.Series(placeholder_lst)\n",
    "\n",
    "\n",
    "# checking results\n",
    "#Apprentice_Chef['domain_group'].value_counts()"
   ]
  },
  {
   "cell_type": "code",
   "execution_count": 15,
   "id": "wired-shore",
   "metadata": {
    "code_folding": [
     0
    ]
   },
   "outputs": [],
   "source": [
    "# Making a copy of apprentice_chef\n",
    "Apprentice_Chef_explanatory = Apprentice_Chef.copy()\n",
    "\n",
    "\n",
    "# Dropping response variable\n",
    "Apprentice_Chef_explanatory = Apprentice_Chef_explanatory.drop([ 'revenue',\n",
    "                                                                 'log_revenue'], axis = 1)\n",
    "\n",
    "\n",
    "# Formatting each explanatory variable for statsmodels\n",
    "#for val in Apprentice_Chef_explanatory:\n",
    "    #print(val, '+')"
   ]
  },
  {
   "cell_type": "markdown",
   "id": "mobile-willow",
   "metadata": {},
   "source": [
    "**Q4- The highest R-Square value of revenue model**"
   ]
  },
  {
   "cell_type": "code",
   "execution_count": 16,
   "id": "concrete-identity",
   "metadata": {
    "code_folding": [
     0
    ]
   },
   "outputs": [],
   "source": [
    "# Building linear regression model\n",
    "lm_full = smf.ols(formula = \"\"\"log_revenue ~ cross_sell_success +\n",
    "                                total_meals_ordered +\n",
    "                                unique_meals_purch +\n",
    "                                contacts_w_customer_service +\n",
    "                                product_categories_viewed +\n",
    "                                mobile_number +\n",
    "                                cancellations_before_noon +\n",
    "                                cancellations_after_noon +\n",
    "                                tastes_and_preferences +\n",
    "                                pc_logins +\n",
    "                                mobile_logins +\n",
    "                                weekly_plan +\n",
    "                                early_deliveries +\n",
    "                                late_deliveries +\n",
    "                                package_locker +\n",
    "                                refrigerated_locker +\n",
    "                                avg_prep_vid_time +\n",
    "                                largest_order_size +\n",
    "                                master_classes_attended +\n",
    "                                median_meal_rating +\n",
    "                                avg_clicks_per_visit +\n",
    "                                total_photos_viewed +\n",
    "                                log_total_meals_ordered +\n",
    "                                log_avg_time_per_site_visit +\n",
    "                                log_avg_prep_vid_time +\n",
    "                                log_total_photos_viewed +\n",
    "                                log_unique_meals_purch +\n",
    "                                log_contacts_w_customer_service +\n",
    "                                log_product_categories_viewed +\n",
    "                                log_cancellations_before_noon +\n",
    "                                log_cancellations_after_noon +\n",
    "                                log_pc_logins +\n",
    "                                log_mobile_logins +\n",
    "                                log_weekly_plan +\n",
    "                                log_early_deliveries +\n",
    "                                log_late_deliveries +\n",
    "                                log_largest_order_size +\n",
    "                                log_master_classes_attended +\n",
    "                                log_median_meal_rating +\n",
    "                                log_avg_clicks_per_visit +\n",
    "                                has_cancellations_before_noon +\n",
    "                                has_cancellations_after_noon +\n",
    "                                has_weekly_plan +\n",
    "                                has_master_classes_attended +\n",
    "                                has_early_deliveries +\n",
    "                                has_late_deliveries \n",
    "                             \n",
    "                                \"\"\",\n",
    "                                data = Apprentice_Chef)\n",
    "\n",
    "\n",
    "# fit the data into the model object\n",
    "results_full = lm_full.fit()\n",
    "\n",
    "\n",
    "# print summary output\n",
    "#print(results_full.summary())"
   ]
  },
  {
   "cell_type": "code",
   "execution_count": 17,
   "id": "intended-illinois",
   "metadata": {
    "code_folding": [
     0
    ]
   },
   "outputs": [],
   "source": [
    "# Importing libraries\n",
    "import pandas as pd                                   # data science essentials\n",
    "import matplotlib.pyplot as plt                       # essential graphical output\n",
    "import seaborn as sns                                 # enhanced graphical output                              \n",
    "import numpy as np                                    # mathematical essentials                    \n",
    "import statsmodels.formula.api as smf                 # regression modeling\n",
    "import sklearn.linear_model                           # linear models\n",
    "import random as rand     \n",
    "\n",
    "# Importing tools from scikitlearn\n",
    "from sklearn.metrics import confusion_matrix         # confusion matrix\n",
    "from sklearn.metrics import roc_auc_score            # auc score\n",
    "from sklearn.neighbors import KNeighborsClassifier   # KNN for classification\n",
    "from sklearn.neighbors import KNeighborsRegressor    # KNN for regression\n",
    "from sklearn.preprocessing import StandardScaler     # standard scaler\n",
    "from sklearn.model_selection import train_test_split # train-test split\n",
    "from sklearn.linear_model import LogisticRegression  # logistic regression\n",
    "\n",
    "# CART Model Packages\n",
    "import pydotplus                                     # interprets dot objects\n",
    "from sklearn.tree import DecisionTreeClassifier      # classification trees\n",
    "from sklearn.tree import export_graphviz             # exports graphics\n",
    "from six import StringIO                             # saves objects in memory\n",
    "from IPython.display import Image                    # displays on frontend\n",
    "\n",
    "\n",
    "# New Packages\n",
    "from sklearn.model_selection import RandomizedSearchCV     # hyperparameter tuning\n",
    "from sklearn.metrics import make_scorer                    # customizable scorer\n",
    "from sklearn.ensemble import RandomForestClassifier        # random forest\n",
    "from sklearn.ensemble import GradientBoostingClassifier    # gbm\n",
    "\n",
    "# setting pandas print options\n",
    "pd.set_option('display.max_rows', 500)\n",
    "pd.set_option('display.max_columns', 500)\n",
    "pd.set_option('display.width', 1000)\n",
    "pd.set_option('display.max_colwidth', 100)\n",
    "\n",
    "# specifying file name\n",
    "file = './Apprentice_Chef_Dataset.xlsx'\n",
    "\n",
    "# reading the file into Python\n",
    "Apprentice_Chef = pd.read_excel(io = file)"
   ]
  },
  {
   "cell_type": "code",
   "execution_count": 18,
   "id": "adjacent-soviet",
   "metadata": {
    "code_folding": [
     0
    ]
   },
   "outputs": [],
   "source": [
    "# Changing the features name to the lowercase\n",
    "Apprentice_Chef.columns = Apprentice_Chef.columns.str.lower()\n",
    "\n",
    "# Checking the missing values\n",
    "#Apprentice_Chef.isnull().sum(axis = 0)"
   ]
  },
  {
   "cell_type": "code",
   "execution_count": 19,
   "id": "relative-settle",
   "metadata": {
    "code_folding": [
     0
    ]
   },
   "outputs": [],
   "source": [
    "# declaring explanatory variables \n",
    "count_var = ['total_meals_ordered', \n",
    "             'unique_meals_purch', \n",
    "             'contacts_w_customer_service', \n",
    "             'product_categories_viewed',\n",
    "             'cancellations_before_noon', \n",
    "             'cancellations_after_noon', \n",
    "             'pc_logins', \n",
    "             'mobile_logins', \n",
    "             'weekly_plan', \n",
    "             'early_deliveries', \n",
    "             'late_deliveries', \n",
    "             'largest_order_size', \n",
    "             'master_classes_attended', \n",
    "             'median_meal_rating', \n",
    "             'avg_clicks_per_visit']"
   ]
  },
  {
   "cell_type": "code",
   "execution_count": 20,
   "id": "advised-christian",
   "metadata": {
    "code_folding": [
     0
    ]
   },
   "outputs": [],
   "source": [
    "# create new variables\n",
    "Apprentice_Chef['mobile_logins_rate'] = Apprentice_Chef['mobile_logins'] / Apprentice_Chef['total_meals_ordered']\n",
    "Apprentice_Chef['cancellation_rate'] = (Apprentice_Chef['cancellations_before_noon'] + Apprentice_Chef['cancellations_after_noon'])/ Apprentice_Chef['total_meals_ordered']\n",
    "\n",
    "# create new variable name to the list\n",
    "count_var.append('mobile_logins_rate')\n",
    "count_var.append('cancellation_rate')\n",
    "\n",
    "\n",
    "# checking result\n",
    "#Apprentice_Chef.loc[ : , ['mobile_logins_rate','cancellation_rate']].head()\n"
   ]
  },
  {
   "cell_type": "code",
   "execution_count": 21,
   "id": "national-biotechnology",
   "metadata": {
    "code_folding": [
     0
    ]
   },
   "outputs": [],
   "source": [
    "# create new columns for dummy variable\n",
    "Apprentice_Chef['has_cancellations_before_noon']   = 0\n",
    "Apprentice_Chef['has_cancellations_after_noon']    = 0\n",
    "Apprentice_Chef['has_weekly_plan']                 = 0\n",
    "Apprentice_Chef['has_master_classes_attended']     = 0\n",
    "Apprentice_Chef['has_early_deliveries']            = 0\n",
    "Apprentice_Chef['has_late_deliveries']             = 0\n",
    "Apprentice_Chef['no_late_deliveries']              = 0\n",
    "\n",
    "# for loop to declare 0 and 1 \n",
    "for index, value in Apprentice_Chef.iterrows():\n",
    "    # cancellations_before_noon\n",
    "    if Apprentice_Chef.loc[index,'cancellations_before_noon'] > 0:\n",
    "        Apprentice_Chef.loc[index, 'has_cancellations_before_noon'] = 1\n",
    "\n",
    "    # cancellations_after_noon\n",
    "    if Apprentice_Chef.loc[index, 'cancellations_after_noon'] > 0:\n",
    "        Apprentice_Chef.loc[index, 'has_cancellations_after_noon'] = 1\n",
    "        \n",
    "    # weekly_plan\n",
    "    if Apprentice_Chef.loc[index,'weekly_plan'] > 0:\n",
    "        Apprentice_Chef.loc[index, 'has_weekly_plan'] = 1\n",
    "\n",
    "    # master_classes_attended\n",
    "    if Apprentice_Chef.loc[index, 'master_classes_attended'] > 0:\n",
    "        Apprentice_Chef.loc[index, 'has_master_classes_attended'] = 1\n",
    "        \n",
    "    # early_deliveries\n",
    "    if Apprentice_Chef.loc[index, 'early_deliveries'] > 0:\n",
    "        Apprentice_Chef.loc[index, 'has_early_deliveries'] = 1\n",
    "    \n",
    "    # late_deliveries\n",
    "    if Apprentice_Chef.loc[index, 'late_deliveries'] > 0:\n",
    "        Apprentice_Chef.loc[index, 'has_late_deliveries'] = 1\n",
    "        \n",
    "    # late_deliveries\n",
    "    if Apprentice_Chef.loc[index,'late_deliveries'] == 0:\n",
    "        Apprentice_Chef.loc[index, 'no_late_deliveries'] = 1\n",
    "\n",
    "\n",
    "# checking results\n",
    "#Apprentice_Chef[['has_cancellations_before_noon', \n",
    "#                 'has_cancellations_after_noon',\n",
    "#                 'has_weekly_plan', \n",
    "#                 'has_master_classes_attended', \n",
    "#                 'has_early_deliveries',\n",
    "#                 'has_late_deliveries', \n",
    "#                 'no_late_deliveries']].head()"
   ]
  },
  {
   "cell_type": "code",
   "execution_count": 22,
   "id": "musical-dictionary",
   "metadata": {
    "code_folding": [
     0
    ]
   },
   "outputs": [],
   "source": [
    "# user-defined functions\n",
    "\n",
    "#########################\n",
    "# mv_flagger\n",
    "#########################\n",
    "def mv_flagger(df):\n",
    "    \"\"\"\n",
    "Flags all columns that have missing values with 'm-COLUMN_NAME'.\n",
    "\n",
    "PARAMETERS\n",
    "----------\n",
    "df : DataFrame to flag missing values\n",
    "\n",
    "\n",
    "RETURNS\n",
    "-------\n",
    "DataFrame with missing value flags.\"\"\"\n",
    "\n",
    "\n",
    "    for col in df:\n",
    "\n",
    "        if df[col].isnull().astype(int).sum() > 0:\n",
    "            df['m_'+col] = df[col].isnull().astype(int)\n",
    "            \n",
    "    return df\n",
    "\n",
    "\n",
    "\n",
    "#########################\n",
    "# text_split_feature\n",
    "#########################\n",
    "def text_split_feature(col, df, sep=' ', new_col_name='number_of_names'):\n",
    "    \"\"\"\n",
    "Splits values in a string Series (as part of a DataFrame) and sums the number\n",
    "of resulting items. Automatically appends summed column to original DataFrame.\n",
    "\n",
    "PARAMETERS\n",
    "----------\n",
    "col          : column to split\n",
    "df           : DataFrame where column is located\n",
    "sep          : string sequence to split by, default ' '\n",
    "new_col_name : name of new column after summing split, default\n",
    "               'number_of_names'\n",
    "\"\"\"\n",
    "    \n",
    "    df[new_col_name] = 0\n",
    "    \n",
    "    \n",
    "    for index, val in df.iterrows():\n",
    "        df.loc[index, new_col_name] = len(df.loc[index, col].split(sep = ' '))"
   ]
  },
  {
   "cell_type": "code",
   "execution_count": 23,
   "id": "conceptual-partition",
   "metadata": {
    "code_folding": [
     0
    ]
   },
   "outputs": [],
   "source": [
    "# calling text_split_feature\n",
    "text_split_feature(col = 'name',\n",
    "                   df  = Apprentice_Chef)\n",
    "\n",
    "\n",
    "# checking results\n",
    "#Apprentice_Chef['number_of_names'].value_counts().sort_index()"
   ]
  },
  {
   "cell_type": "code",
   "execution_count": 24,
   "id": "different-optimization",
   "metadata": {
    "code_folding": [
     0
    ]
   },
   "outputs": [],
   "source": [
    "# create an empty list 'placeholder list' for spliting email domain\n",
    "placeholder_lst = []\n",
    "\n",
    "# looping over each email address\n",
    "for index, col in Apprentice_Chef.iterrows():\n",
    "    \n",
    "    # splitting email domain at '@'\n",
    "    split_email = Apprentice_Chef.loc[index, 'email'].split(sep = '@')\n",
    "    \n",
    "    # appending placeholder_lst with the results\n",
    "    placeholder_lst.append(split_email)\n",
    "    \n",
    "\n",
    "# converting 'placeholder_lst' into a DataFrame \n",
    "email_df = pd.DataFrame(placeholder_lst)\n",
    "\n",
    "\n",
    "# displaying the results\n",
    "#email_df"
   ]
  },
  {
   "cell_type": "code",
   "execution_count": 25,
   "id": "included-ratio",
   "metadata": {
    "code_folding": [
     0
    ]
   },
   "outputs": [],
   "source": [
    "# renaming column to concatenate (rename the second one '1' => 'personal_email_domain')\n",
    "email_df.columns = ['0' , 'email_domain']\n",
    "\n",
    "# concatenating personal_email_domain with dataset DataFrame\n",
    "Apprentice_Chef = pd.concat([Apprentice_Chef, email_df['email_domain']],\n",
    "                     axis = 1)\n",
    "\n",
    "# printing value counts of personal_email_domain\n",
    "#Apprentice_Chef.loc[: ,'email_domain'].value_counts()"
   ]
  },
  {
   "cell_type": "code",
   "execution_count": 26,
   "id": "certified-birth",
   "metadata": {
    "code_folding": [
     0
    ]
   },
   "outputs": [],
   "source": [
    "# email domain types\n",
    "pro_domain = ['@mmm.com', '@amex.com', '@boeing.com', \n",
    "              '@caterpillar.com', '@chevron.com', '@cisco.com', \n",
    "              '@cocacola.com', '@disney.com', '@dupont.com', \n",
    "              '@exxon.com', '@ge.org', '@goldmansacs.com', \n",
    "              '@homedepot.com', '@intel.com', '@jnj.com', \n",
    "              '@jpmorgan.com', '@mcdonalds.com', '@merck.com', \n",
    "              '@microsoft.com', '@nike.com', '@pfizer.com', \n",
    "              '@pg.com', '@travelers.com', '@unitedtech.com', \n",
    "              '@unitedhealth.com', '@verizon.com', \n",
    "              '@visa.com', '@walmart.com']\n",
    "\n",
    "\n",
    "per_domain = ['@gmail.com', '@yahoo.com', '@msn.com','@protonmail.com',\n",
    "              '@hotmail.com', '@apple.com', '@intel.com', '@ibm.com']\n",
    "\n",
    "junk_domain = ['@me.com', '@aol.com', \n",
    "               '@live.com','@passport.com']\n",
    "\n",
    "\n",
    "# create a placeholder list to store email domain types\n",
    "placeholder_lst = []\n",
    "\n",
    "# looping to group observations by domain type\n",
    "for domain in Apprentice_Chef['email_domain']:\n",
    "        if '@' + domain in per_domain :\n",
    "            placeholder_lst.append('vaild')\n",
    "        \n",
    "        elif '@' + domain in pro_domain :\n",
    "            placeholder_lst.append('vaild')\n",
    "            \n",
    "        else:\n",
    "            placeholder_lst.append('junk')"
   ]
  },
  {
   "cell_type": "code",
   "execution_count": 27,
   "id": "superior-fossil",
   "metadata": {
    "code_folding": [
     0
    ]
   },
   "outputs": [],
   "source": [
    "# concatenating with original DataFrame\n",
    "Apprentice_Chef['valid_email'] = pd.Series(placeholder_lst)\n",
    "\n",
    "# checking results\n",
    "#Apprentice_Chef['valid_email'].value_counts()"
   ]
  },
  {
   "cell_type": "code",
   "execution_count": 28,
   "id": "ruled-lingerie",
   "metadata": {
    "code_folding": [
     0
    ]
   },
   "outputs": [],
   "source": [
    "# apply .get_dummies to encode categorical variables (only one category can be active at a time)\n",
    "dummies_domain_group = pd.get_dummies(Apprentice_Chef['valid_email'])\n",
    "\n",
    "# dropping categorical variables after they've been encoded\n",
    "Apprentice_Chef = Apprentice_Chef.drop('valid_email', axis = 1)\n",
    "\n",
    "# joining codings together\n",
    "Apprentice_Chef = Apprentice_Chef.join([dummies_domain_group])\n",
    "\n",
    "# checking result\n",
    "#Apprentice_Chef.columns"
   ]
  },
  {
   "cell_type": "code",
   "execution_count": 29,
   "id": "attached-bridal",
   "metadata": {
    "code_folding": [
     0
    ]
   },
   "outputs": [],
   "source": [
    "# optimal_neighbors\n",
    "\n",
    "def optimal_neighbors(x_data,\n",
    "                      y_data,\n",
    "                      standardize = True,\n",
    "                      pct_test=0.25,\n",
    "                      seed=219,\n",
    "                      response_type='reg',\n",
    "                      max_neighbors=20,\n",
    "                      show_viz=True):\n",
    "    \"\"\"\n",
    "Exhaustively compute training and testing results for KNN across\n",
    "[1, max_neighbors]. Outputs the maximum test score and (by default) a\n",
    "visualization of the results.\n",
    "PARAMETERS\n",
    "----------\n",
    "x_data        : explanatory variable data\n",
    "y_data        : response variable\n",
    "standardize   : whether or not to standardize the X data, default True\n",
    "pct_test      : test size for training and validation from (0,1), default 0.25\n",
    "seed          : random seed to be used in algorithm, default 219\n",
    "response_type : type of neighbors algorithm to use, default 'reg'\n",
    "    Use 'reg' for regression (KNeighborsRegressor)\n",
    "    Use 'class' for classification (KNeighborsClassifier)\n",
    "max_neighbors : maximum number of neighbors in exhaustive search, default 20\n",
    "show_viz      : display or surpress k-neigbors visualization, default True\n",
    "\"\"\"    \n",
    "    \n",
    "    \n",
    "    if standardize == True:\n",
    "        # optionally standardizing x_data\n",
    "        scaler             = StandardScaler()\n",
    "        scaler.fit(x_data)\n",
    "        x_scaled           = scaler.transform(x_data)\n",
    "        x_scaled_df        = pd.DataFrame(x_scaled)\n",
    "        x_data             = x_scaled_df\n",
    "\n",
    "\n",
    "\n",
    "    # train-test split\n",
    "    x_train, x_test, y_train, y_test = train_test_split(x_data,\n",
    "                                                        y_data,\n",
    "                                                        test_size = pct_test,\n",
    "                                                        random_state = seed)\n",
    "\n",
    "\n",
    "    # creating lists for training set accuracy and test set accuracy\n",
    "    training_accuracy = []\n",
    "    test_accuracy = []\n",
    "    \n",
    "    \n",
    "    # setting neighbor range\n",
    "    neighbors_settings = range(1, max_neighbors + 1)\n",
    "\n",
    "\n",
    "    for n_neighbors in neighbors_settings:\n",
    "        # building the model based on response variable type\n",
    "        if response_type == 'reg':\n",
    "            clf = KNeighborsRegressor(n_neighbors = n_neighbors)\n",
    "            clf.fit(x_train, y_train)\n",
    "            \n",
    "        elif response_type == 'class':\n",
    "            clf = KNeighborsClassifier(n_neighbors = n_neighbors)\n",
    "            clf.fit(x_train, y_train)            \n",
    "            \n",
    "        else:\n",
    "            print(\"Error: response_type must be 'reg' or 'class'\")\n",
    "        \n",
    "        \n",
    "        # recording the training set accuracy\n",
    "        training_accuracy.append(clf.score(x_train, y_train))\n",
    "    \n",
    "        # recording the generalization accuracy\n",
    "        test_accuracy.append(clf.score(x_test, y_test))\n",
    "\n",
    "\n",
    "    # optionally displaying visualization\n",
    "    if show_viz == True:\n",
    "        # plotting the visualization\n",
    "        fig, ax = plt.subplots(figsize=(12,8))\n",
    "        plt.plot(neighbors_settings, training_accuracy, label = \"training accuracy\")\n",
    "        plt.plot(neighbors_settings, test_accuracy, label = \"test accuracy\")\n",
    "        plt.ylabel(\"Accuracy\")\n",
    "        plt.xlabel(\"n_neighbors\")\n",
    "        plt.legend()\n",
    "        plt.show()\n",
    "    \n",
    "    \n",
    "    # returning optimal number of neighbors\n",
    "    print(f\"The optimal number of neighbors is: {test_accuracy.index(max(test_accuracy))+1}\")\n",
    "    return test_accuracy.index(max(test_accuracy))+1\n",
    "\n",
    "\n",
    "########################################\n",
    "# visual_cm\n",
    "########################################\n",
    "def visual_cm(true_y, pred_y, labels = None):\n",
    "    \"\"\"\n",
    "Creates a visualization of a confusion matrix.\n",
    "\n",
    "PARAMETERS\n",
    "----------\n",
    "true_y : true values for the response variable\n",
    "pred_y : predicted values for the response variable\n",
    "labels : , default None\n",
    "    \"\"\"\n",
    "    # visualizing the confusion matrix\n",
    "\n",
    "    # setting labels\n",
    "    lbls = labels\n",
    "    \n",
    "\n",
    "    # declaring a confusion matrix object\n",
    "    cm = confusion_matrix(y_true = true_y,\n",
    "                          y_pred = pred_y)\n",
    "\n",
    "\n",
    "    # heatmap\n",
    "    sns.heatmap(cm,\n",
    "                annot       = True,\n",
    "                xticklabels = lbls,\n",
    "                yticklabels = lbls,\n",
    "                cmap        = 'Blues',\n",
    "                fmt         = 'g')\n",
    "\n",
    "\n",
    "    plt.xlabel('Predicted')\n",
    "    plt.ylabel('Actual')\n",
    "    plt.title('Confusion Matrix of the Classifier')\n",
    "    plt.show()"
   ]
  },
  {
   "cell_type": "code",
   "execution_count": 30,
   "id": "useful-infrastructure",
   "metadata": {
    "code_folding": [
     0
    ]
   },
   "outputs": [],
   "source": [
    "# plot_feature_importances\n",
    "\n",
    "def plot_feature_importances(model, train, export = False):\n",
    "    \"\"\"\n",
    "    Plots the importance of features from a CART model.\n",
    "    \n",
    "    PARAMETERS\n",
    "    ----------\n",
    "    model  : CART model\n",
    "    train  : explanatory variable training data\n",
    "    export : whether or not to export as a .png image, default False\n",
    "    \"\"\"\n",
    "    \n",
    "    # declaring the number\n",
    "    n_features = x_train.shape[1]\n",
    "    \n",
    "    # setting plot window\n",
    "    fig, ax = plt.subplots(figsize=(12,9))\n",
    "    \n",
    "    plt.barh(range(n_features), model.feature_importances_, align='center')\n",
    "    plt.yticks(pd.np.arange(n_features), train.columns)\n",
    "    plt.xlabel(\"Feature importance\")\n",
    "    plt.ylabel(\"Feature\")\n",
    "    \n",
    "    if export == True:\n",
    "        plt.savefig('Tree_Leaf_50_Feature_Importance.png')\n",
    "        "
   ]
  },
  {
   "cell_type": "code",
   "execution_count": 31,
   "id": "guided-contrast",
   "metadata": {
    "code_folding": [
     0
    ]
   },
   "outputs": [],
   "source": [
    "# display_tree\n",
    "\n",
    "def display_tree(tree, feature_df, height = 500, width = 800, export = False):\n",
    "    \"\"\"\n",
    "    PARAMETERS\n",
    "    ----------\n",
    "    tree       : fitted tree model object\n",
    "        fitted CART model to visualized\n",
    "    feature_df : DataFrame\n",
    "        DataFrame of explanatory features (used to generate labels)\n",
    "    height     : int, default 500\n",
    "        height in pixels to which to constrain image in html\n",
    "    width      : int, default 800\n",
    "        width in pixels to which to constrain image in html\n",
    "    export     : bool, defalut False\n",
    "        whether or not to export the tree as a .png file\n",
    "    \"\"\"\n",
    "\n",
    "    # visualizing the tree\n",
    "    dot_data = StringIO()\n",
    "\n",
    "    \n",
    "    # exporting tree to graphviz\n",
    "    export_graphviz(decision_tree      = tree,\n",
    "                    out_file           = dot_data,\n",
    "                    filled             = True,\n",
    "                    rounded            = True,\n",
    "                    special_characters = True,\n",
    "                    feature_names      = feature_df.columns)\n",
    "\n",
    "\n",
    "    # declaring a graph object\n",
    "    graph = pydotplus.graph_from_dot_data(dot_data.getvalue())\n",
    "\n",
    "\n",
    "    # creating image\n",
    "    img = Image(graph.create_png(),\n",
    "                height = height,\n",
    "                width  = width,\n",
    "                unconfined = True)\n",
    "\n",
    "\n",
    "    return img"
   ]
  },
  {
   "cell_type": "code",
   "execution_count": 32,
   "id": "subject-harassment",
   "metadata": {
    "code_folding": [
     0
    ]
   },
   "outputs": [],
   "source": [
    "# creating a correlation matrix\n",
    "df_corr = Apprentice_Chef.corr().round(2)\n",
    "\n",
    "# printing correlations with 'cross_sell_success'\n",
    "#df_corr['cross_sell_success'].sort_values(ascending = False)"
   ]
  },
  {
   "cell_type": "code",
   "execution_count": 33,
   "id": "domestic-appointment",
   "metadata": {
    "code_folding": [
     0
    ]
   },
   "outputs": [],
   "source": [
    "# declaring explanatory variables\n",
    "col_drop = ['cross_sell_success','name','first_name', 'family_name',\n",
    "            'email', 'email_domain']\n",
    "\n",
    "Apprentice_Chef_data = Apprentice_Chef.drop(col_drop, axis = 1)\n",
    "\n",
    "# declaring response variable\n",
    "Apprentice_Chef_target = Apprentice_Chef.loc[ : , 'cross_sell_success']"
   ]
  },
  {
   "cell_type": "code",
   "execution_count": 34,
   "id": "constitutional-literature",
   "metadata": {
    "code_folding": [
     0
    ]
   },
   "outputs": [],
   "source": [
    "# train-test split with stratification\n",
    "x_train, x_test, y_train, y_test = train_test_split(\n",
    "            Apprentice_Chef_data,\n",
    "            Apprentice_Chef_target,\n",
    "            test_size    = 0.25,\n",
    "            random_state = 219,\n",
    "            stratify     = Apprentice_Chef_target)\n",
    "\n",
    "# merging training data for statsmodels\n",
    "Apprentice_Chef_train = pd.concat([x_train, y_train], axis = 1)"
   ]
  },
  {
   "cell_type": "code",
   "execution_count": 35,
   "id": "antique-division",
   "metadata": {},
   "outputs": [],
   "source": [
    "#for val in Apprentice_Chef_data:\n",
    "#    print(f\" {val} + \")"
   ]
  },
  {
   "cell_type": "code",
   "execution_count": 36,
   "id": "valuable-sector",
   "metadata": {
    "code_folding": [
     0
    ]
   },
   "outputs": [],
   "source": [
    "# creating a dictionary to store candidate models\n",
    "\n",
    "candidate_dict = {\n",
    "\n",
    " # full model\n",
    " 'logit_full'   : ['revenue' , \n",
    "                   'total_meals_ordered' , \n",
    "                   'unique_meals_purch' , \n",
    "                   'contacts_w_customer_service' ,\n",
    "                   'product_categories_viewed' , \n",
    "                   'avg_time_per_site_visit' , \n",
    "                   'mobile_number' , \n",
    "                   'cancellations_before_noon' , \n",
    "                   'cancellations_after_noon' , \n",
    "                   'tastes_and_preferences' , \n",
    "                   'pc_logins' , \n",
    "                   'mobile_logins' , \n",
    "                   'weekly_plan' , \n",
    "                   'early_deliveries' , \n",
    "                   'late_deliveries' , \n",
    "                   'package_locker' , \n",
    "                   'refrigerated_locker' , \n",
    "                   'avg_prep_vid_time' , \n",
    "                   'largest_order_size' , \n",
    "                   'master_classes_attended' , \n",
    "                   'median_meal_rating' , \n",
    "                   'avg_clicks_per_visit' , \n",
    "                   'total_photos_viewed' , \n",
    "                   'mobile_logins_rate' , \n",
    "                   'cancellation_rate' , \n",
    "                   'has_cancellations_before_noon' , \n",
    "                   'has_cancellations_after_noon' , \n",
    "                   'has_weekly_plan' , \n",
    "                   'has_master_classes_attended' , \n",
    "                   'has_early_deliveries' , \n",
    "                   'has_late_deliveries' , \n",
    "                   'no_late_deliveries' , \n",
    "                   'number_of_names' , \n",
    "                   'vaild' , \n",
    "                   'junk'],\n",
    " \n",
    "\n",
    "            \n",
    "# significant variables only (set 1)\n",
    " 'logit_sig'    : ['contacts_w_customer_service' ,\n",
    "                   'mobile_number' ,\n",
    "                   'tastes_and_preferences' ,\n",
    "                   'cancellations_before_noon' ,\n",
    "                   'pc_logins' , \n",
    "                   'early_deliveries' ,\n",
    "                   'refrigerated_locker' ,\n",
    "                   'junk'],\n",
    " \n",
    " # significant variables only (set 2)   \n",
    " 'logit_sig_2'    : ['contacts_w_customer_service' ,\n",
    "                     'mobile_number' ,\n",
    "                     'tastes_and_preferences' ,\n",
    "                     'pc_logins' ,\n",
    "                     'cancellations_before_noon' ,\n",
    "                     'total_meals_ordered' ,\n",
    "                     'refrigerated_locker' ,\n",
    "                     'has_master_classes_attended' ,\n",
    "                     'vaild',\n",
    "                     'number_of_names']\n",
    "    \n",
    "}\n"
   ]
  },
  {
   "cell_type": "code",
   "execution_count": 37,
   "id": "moved-czech",
   "metadata": {
    "code_folding": [
     0
    ]
   },
   "outputs": [],
   "source": [
    "# instantiating a logistic regression model object\n",
    "logit_full = smf.logit(formula = \"\"\" cross_sell_success ~\n",
    "                                     revenue + \n",
    "                                     total_meals_ordered + \n",
    "                                     unique_meals_purch + \n",
    "                                     contacts_w_customer_service + \n",
    "                                     product_categories_viewed + \n",
    "                                     avg_time_per_site_visit + \n",
    "                                     mobile_number + \n",
    "                                     cancellations_before_noon + \n",
    "                                     cancellations_after_noon + \n",
    "                                     tastes_and_preferences + \n",
    "                                     pc_logins + \n",
    "                                     mobile_logins + \n",
    "                                     weekly_plan + \n",
    "                                     early_deliveries + \n",
    "                                     late_deliveries + \n",
    "                                     package_locker + \n",
    "                                     refrigerated_locker + \n",
    "                                     avg_prep_vid_time + \n",
    "                                     largest_order_size + \n",
    "                                     master_classes_attended + \n",
    "                                     median_meal_rating + \n",
    "                                     avg_clicks_per_visit + \n",
    "                                     total_photos_viewed + \n",
    "                                     mobile_logins_rate + \n",
    "                                     cancellation_rate + \n",
    "                                     has_cancellations_before_noon + \n",
    "                                     has_cancellations_after_noon + \n",
    "                                     has_weekly_plan + \n",
    "                                     has_master_classes_attended + \n",
    "                                     has_early_deliveries + \n",
    "                                     has_late_deliveries + \n",
    "                                     no_late_deliveries + \n",
    "                                     number_of_names + \n",
    "                                     vaild+\n",
    "                                     junk \"\"\",\n",
    "                                     data    = Apprentice_Chef_train)\n",
    "\n",
    "\n",
    "# fitting the model object\n",
    "#logit_full = logit_full.fit()\n",
    "\n",
    "\n",
    "# checking the results SUMMARY\n",
    "#logit_full.summary()"
   ]
  },
  {
   "cell_type": "code",
   "execution_count": 38,
   "id": "collectible-guess",
   "metadata": {
    "code_folding": [
     0
    ]
   },
   "outputs": [],
   "source": [
    "# instantiating a logistic regression model object\n",
    "logit_sig = smf.logit(formula =  \"\"\" cross_sell_success ~\n",
    "                                     contacts_w_customer_service + \n",
    "                                     mobile_number +\n",
    "                                     tastes_and_preferences + \n",
    "                                     cancellations_before_noon +\n",
    "                                     pc_logins + \n",
    "                                     early_deliveries +\n",
    "                                     refrigerated_locker +\n",
    "                                     junk\"\"\",\n",
    "                                     data    = Apprentice_Chef_train)\n",
    "\n",
    "\n",
    "# fitting the model object\n",
    "#logit_sig = logit_sig.fit()\n",
    "\n",
    "\n",
    "# checking the results SUMMARY\n",
    "#logit_sig.summary()"
   ]
  },
  {
   "cell_type": "code",
   "execution_count": 39,
   "id": "viral-replacement",
   "metadata": {
    "code_folding": [
     0
    ]
   },
   "outputs": [],
   "source": [
    "# instantiating a logistic regression model object\n",
    "logit_sig_2 = smf.logit(formula =  \"\"\" cross_sell_success ~\n",
    "                                       contacts_w_customer_service +\n",
    "                                       mobile_number +\n",
    "                                       tastes_and_preferences +\n",
    "                                       pc_logins +\n",
    "                                       cancellations_before_noon +\n",
    "                                       total_meals_ordered +\n",
    "                                       refrigerated_locker +\n",
    "                                       has_master_classes_attended +\n",
    "                                       vaild +\n",
    "                                       number_of_names\"\"\",\n",
    "                                       data    = Apprentice_Chef_train)\n",
    " \n",
    "\n",
    "# fitting the model object\n",
    "#logit_sig_2 = logit_sig_2.fit()\n",
    "\n",
    "\n",
    "# checking the results SUMMARY\n",
    "#logit_sig_2.summary()"
   ]
  },
  {
   "cell_type": "code",
   "execution_count": 40,
   "id": "serial-bouquet",
   "metadata": {
    "code_folding": [
     0
    ]
   },
   "outputs": [
    {
     "name": "stderr",
     "output_type": "stream",
     "text": [
      "/opt/anaconda3/lib/python3.8/site-packages/sklearn/linear_model/_logistic.py:762: ConvergenceWarning: lbfgs failed to converge (status=1):\n",
      "STOP: TOTAL NO. of ITERATIONS REACHED LIMIT.\n",
      "\n",
      "Increase the number of iterations (max_iter) or scale the data as shown in:\n",
      "    https://scikit-learn.org/stable/modules/preprocessing.html\n",
      "Please also refer to the documentation for alternative solver options:\n",
      "    https://scikit-learn.org/stable/modules/linear_model.html#logistic-regression\n",
      "  n_iter_i = _check_optimize_result(\n"
     ]
    }
   ],
   "source": [
    "# train/test split with the full model\n",
    "Apprentice_Chef_data   =  Apprentice_Chef.loc[ : , candidate_dict['logit_sig_2']]\n",
    "Apprentice_Chef_target =  Apprentice_Chef.loc[ : , 'cross_sell_success']\n",
    "\n",
    "\n",
    "# this is the exact code we were using before\n",
    "x_train, x_test, y_train, y_test = train_test_split(\n",
    "            Apprentice_Chef_data,\n",
    "            Apprentice_Chef_target,\n",
    "            random_state = 219,\n",
    "            test_size    = 0.25,\n",
    "            stratify     = Apprentice_Chef_target)\n",
    "\n",
    "\n",
    "# INSTANTIATING a logistic regression model\n",
    "logreg = LogisticRegression(solver = 'lbfgs',\n",
    "                            C = 1,\n",
    "                            random_state = 219)\n",
    "\n",
    "\n",
    "# FITTING the training data\n",
    "logreg_fit = logreg.fit(x_train, y_train)\n",
    "\n",
    "\n",
    "# PREDICTING based on the testing set\n",
    "logreg_pred = logreg_fit.predict(x_test)\n",
    "\n",
    "\n",
    "# SCORING the results\n",
    "#print('LogReg Training ACCURACY:', logreg_fit.score(x_train, y_train).round(4))\n",
    "#print('LogReg Testing  ACCURACY:', logreg_fit.score(x_test, y_test).round(4))\n",
    "\n",
    "# saving scoring data for future use\n",
    "logreg_train_score = logreg_fit.score(x_train, y_train).round(4) # accuracy\n",
    "logreg_test_score  = logreg_fit.score(x_test, y_test).round(4)   # accuracy\n",
    "\n",
    "\n",
    "# displaying and saving the gap between training and testing\n",
    "#print('LogReg Train-Test Gap   :', abs(logreg_train_score - logreg_test_score).round(4))\n",
    "logreg_test_gap = abs(logreg_train_score - logreg_test_score).round(4)"
   ]
  },
  {
   "cell_type": "code",
   "execution_count": 41,
   "id": "proud-prediction",
   "metadata": {
    "code_folding": [
     0
    ]
   },
   "outputs": [],
   "source": [
    "# unpacking the confusion matrix\n",
    "logreg_tn, \\\n",
    "logreg_fp, \\\n",
    "logreg_fn, \\\n",
    "logreg_tp = confusion_matrix(y_true = y_test, y_pred = logreg_pred).ravel()\n",
    "\n",
    "\n",
    "# printing each result one-by-one\n",
    "#print(f\"\"\"\n",
    "#True Negatives : {logreg_tn}\n",
    "#False Positives: {logreg_fp}\n",
    "#False Negatives: {logreg_fn}\n",
    "#True Positives : {logreg_tp}\n",
    "#\"\"\")"
   ]
  },
  {
   "cell_type": "code",
   "execution_count": 42,
   "id": "horizontal-exclusion",
   "metadata": {
    "code_folding": [
     0
    ]
   },
   "outputs": [],
   "source": [
    "# area under the roc curve (auc)\n",
    "#print(roc_auc_score(y_true  = y_test,\n",
    "#                    y_score = logreg_pred).round(decimals = 4))\n",
    "\n",
    "\n",
    "# saving AUC score for future use\n",
    "logreg_auc_score = roc_auc_score(y_true  = y_test,\n",
    "                                 y_score = logreg_pred).round(decimals = 4)"
   ]
  },
  {
   "cell_type": "code",
   "execution_count": 43,
   "id": "through-champion",
   "metadata": {
    "code_folding": [
     0
    ]
   },
   "outputs": [],
   "source": [
    "# zipping each feature name to its coefficient\n",
    "logreg_model_values = zip(Apprentice_Chef[candidate_dict['logit_sig_2']].columns,\n",
    "                          logreg_fit.coef_.ravel().round(decimals = 2))\n",
    "\n",
    "\n",
    "# setting up a placeholder list to store model features\n",
    "logreg_model_lst = [('intercept', logreg_fit.intercept_[0].round(decimals = 2))]\n",
    "\n",
    "\n",
    "# printing out each feature-coefficient pair one by one\n",
    "for val in logreg_model_values:\n",
    "    logreg_model_lst.append(val)\n",
    "    \n",
    "\n",
    "# checking the results\n",
    "#for pair in logreg_model_lst:\n",
    "#    print(pair)"
   ]
  },
  {
   "cell_type": "markdown",
   "id": "sacred-fourth",
   "metadata": {},
   "source": [
    "**Q5. The highest AUC score of cross-sell model- Classification tree model : Full tree**"
   ]
  },
  {
   "cell_type": "code",
   "execution_count": 44,
   "id": "iraqi-logan",
   "metadata": {
    "code_folding": [
     0
    ]
   },
   "outputs": [],
   "source": [
    "# INSTANTIATING a classification tree object\n",
    "full_tree = DecisionTreeClassifier()\n",
    "\n",
    "\n",
    "# FITTING the training data\n",
    "full_tree_fit = full_tree.fit(x_train, y_train)\n",
    "\n",
    "\n",
    "# PREDICTING on new data\n",
    "full_tree_pred = full_tree_fit.predict(x_test)\n",
    "\n",
    "\n",
    "# SCORING the model\n",
    "#print('Full Tree Training ACCURACY:', full_tree_fit.score(x_train,\n",
    "#                                                   y_train).round(4))\n",
    "\n",
    "#print('Full Tree Testing ACCURACY :', full_tree_fit.score(x_test,\n",
    "#                                                    y_test).round(4))\n",
    "\n",
    "#print('Full Tree AUC Score:', roc_auc_score(y_true  = y_test,\n",
    "#                                            y_score = full_tree_pred).round(4))\n",
    "\n",
    "\n",
    "# saving scoring data for future use\n",
    "full_tree_train_score = full_tree_fit.score(x_train, y_train).round(4) # accuracy\n",
    "full_tree_test_score  = full_tree_fit.score(x_test, y_test).round(4)   # accuracy\n",
    "\n",
    "\n",
    "# saving AUC\n",
    "full_tree_auc_score   = roc_auc_score(y_true  = y_test,\n",
    "                                      y_score = full_tree_pred).round(4) # auc"
   ]
  },
  {
   "cell_type": "code",
   "execution_count": 45,
   "id": "sonic-straight",
   "metadata": {
    "code_folding": [
     0
    ]
   },
   "outputs": [],
   "source": [
    "# unpacking the confusion matrix\n",
    "full_tree_tn, \\\n",
    "full_tree_fp, \\\n",
    "full_tree_fn, \\\n",
    "full_tree_tp = confusion_matrix(y_true = y_test, y_pred = full_tree_pred).ravel()\n",
    "\n",
    "\n",
    "# printing each result one-by-one\n",
    "#print(f\"\"\"\n",
    "#True Negatives : {full_tree_tn}\n",
    "#False Positives: {full_tree_fp}\n",
    "#False Negatives: {full_tree_fn}\n",
    "#True Positives : {full_tree_tp}\n",
    "#\"\"\")"
   ]
  },
  {
   "cell_type": "code",
   "execution_count": 50,
   "id": "combined-affect",
   "metadata": {
    "code_folding": [
     0
    ]
   },
   "outputs": [
    {
     "name": "stderr",
     "output_type": "stream",
     "text": [
      "<ipython-input-50-ab56759a1de2>:4: FutureWarning: The pandas.np module is deprecated and will be removed from pandas in a future version. Import numpy directly instead\n",
      "  depth_space     = pd.np.arange(1, 25, 1)\n",
      "<ipython-input-50-ab56759a1de2>:5: FutureWarning: The pandas.np module is deprecated and will be removed from pandas in a future version. Import numpy directly instead\n",
      "  leaf_space      = pd.np.arange(1, 100, 1)\n"
     ]
    },
    {
     "data": {
      "text/plain": [
       "RandomizedSearchCV(cv=3, estimator=DecisionTreeClassifier(random_state=219),\n",
       "                   n_iter=250,\n",
       "                   param_distributions={'criterion': ['gini', 'entropy'],\n",
       "                                        'max_depth': array([ 1,  2,  3,  4,  5,  6,  7,  8,  9, 10, 11, 12, 13, 14, 15, 16, 17,\n",
       "       18, 19, 20, 21, 22, 23, 24]),\n",
       "                                        'min_samples_leaf': array([ 1,  2,  3,  4,  5,  6,  7,  8,  9, 10, 11, 12, 13, 14, 15, 16, 17,\n",
       "       18, 19, 20, 21, 22, 23, 24, 25, 26, 27, 28, 29, 30, 31, 32, 33, 34,\n",
       "       35, 36, 37, 38, 39, 40, 41, 42, 43, 44, 45, 46, 47, 48, 49, 50, 51,\n",
       "       52, 53, 54, 55, 56, 57, 58, 59, 60, 61, 62, 63, 64, 65, 66, 67, 68,\n",
       "       69, 70, 71, 72, 73, 74, 75, 76, 77, 78, 79, 80, 81, 82, 83, 84, 85,\n",
       "       86, 87, 88, 89, 90, 91, 92, 93, 94, 95, 96, 97, 98, 99]),\n",
       "                                        'splitter': ['best', 'random']},\n",
       "                   random_state=219, scoring=make_scorer(roc_auc_score))"
      ]
     },
     "execution_count": 50,
     "metadata": {},
     "output_type": "execute_result"
    }
   ],
   "source": [
    "# declaring a hyperparameter space\n",
    "criterion_space = ['gini', 'entropy']\n",
    "splitter_space  = ['best', 'random']\n",
    "depth_space     = pd.np.arange(1, 25, 1)\n",
    "leaf_space      = pd.np.arange(1, 100, 1)\n",
    "\n",
    "\n",
    "# creating a hyperparameter grid\n",
    "param_grid = {'criterion'        : criterion_space,\n",
    "              'splitter'         : splitter_space,\n",
    "              'max_depth'        : depth_space,\n",
    "              'min_samples_leaf' : leaf_space}\n",
    "\n",
    "\n",
    "# INSTANTIATING the model object without hyperparameters\n",
    "tuned_tree = DecisionTreeClassifier(random_state = 219)\n",
    "\n",
    "# RandomizedSearchCV object\n",
    "tuned_tree_cv = RandomizedSearchCV(estimator             = tuned_tree,\n",
    "                                   param_distributions   = param_grid,\n",
    "                                   cv                    = 3,\n",
    "                                   n_iter                = 250, # changed for the sake of time\n",
    "                                   random_state          = 219,\n",
    "                                   scoring = make_scorer(roc_auc_score,\n",
    "                                             needs_threshold = False))\n",
    "\n",
    "\n",
    "# FITTING to the FULL DATASET (due to cross-validation)\n",
    "tuned_tree_cv.fit(Apprentice_Chef_data, Apprentice_Chef_target)\n",
    "\n",
    "\n",
    "# PREDICT step is not needed\n",
    "\n",
    "\n",
    "#printing the optimal parameters and best score\n",
    "#print(\"Tuned Parameters  :\", tuned_tree_cv.best_params_)\n",
    "#print(\"Tuned Training AUC:\", tuned_tree_cv.best_score_.round(4))"
   ]
  },
  {
   "cell_type": "markdown",
   "id": "automatic-indication",
   "metadata": {},
   "source": [
    "#  Introduce of the Apprentice Chef Case\n",
    "\n",
    "**Apprentice Chef, Inc.** is an innovative company with unique characteristics in home cooking. We conducted an analysis project to better understand how much each customer expects to earn in the first year of using the service. And build a machine learning model to predict which customers will subscribe to the cross-selling promotion- **\"Halfway There\"** service."
   ]
  },
  {
   "cell_type": "markdown",
   "id": "running-substitute",
   "metadata": {},
   "source": [
    "# Revenue related Insights \n",
    "\n",
    "*Insight 1-* The correlation of total_meals_ordered is 0.96, and the P-value is 0.000. This means that \"total_meals_ordered\" has a significant impact on revenue. In other words, if Apprentice Chef wants to increase revenue, it must increase the number of total_meals_ordered.\n",
    "\n",
    "The correlation of unique_meals_purch is 0.6350, and the P-value is 0.000. This means that \"unique_meals_purch\" has a significant impact on income. We must do better tracking of unique_meals_purch, whether in terms of product quality or customer service, which will help increase revenue."
   ]
  },
  {
   "cell_type": "markdown",
   "id": "indian-boxing",
   "metadata": {},
   "source": [
    "# Cross-sell promotion related Insights \n",
    "\n",
    "In this model, the importance of total_meals_ordered is seen. The company should look into how increase the amount of total_meals_ordered. This increase could lead to a rise in not only revenue but also cross-sell promotion's success."
   ]
  },
  {
   "cell_type": "code",
   "execution_count": 47,
   "id": "extra-breakfast",
   "metadata": {
    "code_folding": [
     0
    ]
   },
   "outputs": [
    {
     "name": "stderr",
     "output_type": "stream",
     "text": [
      "<ipython-input-30-def25f9969d8>:21: FutureWarning: The pandas.np module is deprecated and will be removed from pandas in a future version. Import numpy directly instead\n",
      "  plt.yticks(pd.np.arange(n_features), train.columns)\n"
     ]
    },
    {
     "data": {
      "image/png": "[encoded data removed]",
      "text/plain": [
       "<Figure size 864x648 with 1 Axes>"
      ]
     },
     "metadata": {
      "needs_background": "light"
     },
     "output_type": "display_data"
    }
   ],
   "source": [
    "# plotting feature importance\n",
    "plot_feature_importances(full_tree_fit,\n",
    "                         train  = x_train,\n",
    "                         export = False)"
   ]
  },
  {
   "cell_type": "markdown",
   "id": "exterior-switch",
   "metadata": {},
   "source": [
    "# The highest R-Square value of revenue model\n",
    "\n",
    "The highest R-squared value of revenue = 0.780"
   ]
  },
  {
   "cell_type": "markdown",
   "id": "artistic-justice",
   "metadata": {},
   "source": [
    "# The highest AUC score of cross-sell model\n",
    "\n",
    "The highest AUC score is 0.719."
   ]
  },
  {
   "cell_type": "code",
   "execution_count": 48,
   "id": "stainless-thunder",
   "metadata": {
    "code_folding": [
     0
    ]
   },
   "outputs": [
    {
     "name": "stdout",
     "output_type": "stream",
     "text": [
      "Training ACCURACY: 0.7361\n",
      "Testing  ACCURACY: 0.7823\n",
      "AUC Score        : 0.7196\n"
     ]
    }
   ],
   "source": [
    "# building a model based on hyperparameter tuning results\n",
    "\n",
    "# INSTANTIATING a logistic regression model with tuned values\n",
    "tree_tuned = tuned_tree_cv.best_estimator_\n",
    "\n",
    "\n",
    "# FIT step is not needed\n",
    "\n",
    "\n",
    "# PREDICTING based on the testing set\n",
    "tree_tuned_pred = tree_tuned.predict(x_test)\n",
    "\n",
    "# SCORING the results\n",
    "print('Training ACCURACY:', tree_tuned.score(x_train, y_train).round(4))\n",
    "print('Testing  ACCURACY:', tree_tuned.score(x_test, y_test).round(4))\n",
    "print('AUC Score        :', roc_auc_score(y_true  = y_test,\n",
    "                                          y_score = tree_tuned_pred).round(4))\n",
    "\n",
    "\n",
    "# saving scoring data for future use\n",
    "tree_tuned_train_score = tree_tuned.score(x_train, y_train).round(4) # accuracy\n",
    "tree_tuned_test_score  = tree_tuned.score(x_test, y_test).round(4)   # accuracy\n",
    "\n",
    "\n",
    "# saving the AUC score\n",
    "tree_tuned_auc         = roc_auc_score(y_true  = y_test,\n",
    "                                     y_score = tree_tuned_pred).round(4) # auc"
   ]
  },
  {
   "cell_type": "markdown",
   "id": "anticipated-springfield",
   "metadata": {},
   "source": [
    "# Conclusion\n",
    "Companies can use the insights derived from these models to guide the company's customer-oriented decisions. Effective models will be able to help companies predict customer behavior and identify key decisions."
   ]
  }
 ],
 "metadata": {
  "kernelspec": {
   "display_name": "Python 3",
   "language": "python",
   "name": "python3"
  },
  "language_info": {
   "codemirror_mode": {
    "name": "ipython",
    "version": 3
   },
   "file_extension": ".py",
   "mimetype": "text/x-python",
   "name": "python",
   "nbconvert_exporter": "python",
   "pygments_lexer": "ipython3",
   "version": "3.8.3"
  },
  "toc": {
   "base_numbering": 1,
   "nav_menu": {},
   "number_sections": true,
   "sideBar": true,
   "skip_h1_title": false,
   "title_cell": "Table of Contents",
   "title_sidebar": "Contents",
   "toc_cell": false,
   "toc_position": {},
   "toc_section_display": true,
   "toc_window_display": false
  },
  "varInspector": {
   "cols": {
    "lenName": 16,
    "lenType": 16,
    "lenVar": 40
   },
   "kernels_config": {
    "python": {
     "delete_cmd_postfix": "",
     "delete_cmd_prefix": "del ",
     "library": "var_list.py",
     "varRefreshCmd": "print(var_dic_list())"
    },
    "r": {
     "delete_cmd_postfix": ") ",
     "delete_cmd_prefix": "rm(",
     "library": "var_list.r",
     "varRefreshCmd": "cat(var_dic_list()) "
    }
   },
   "types_to_exclude": [
    "module",
    "function",
    "builtin_function_or_method",
    "instance",
    "_Feature"
   ],
   "window_display": false
  }
 },
 "nbformat": 4,
 "nbformat_minor": 5
}
